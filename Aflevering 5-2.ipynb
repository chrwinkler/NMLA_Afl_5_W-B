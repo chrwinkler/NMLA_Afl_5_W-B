{
 "cells": [
  {
   "cell_type": "code",
   "execution_count": 2,
   "metadata": {},
   "outputs": [],
   "source": [
    "import numpy as np\n",
    "import matplotlib.pyplot as plt\n"
   ]
  },
  {
   "cell_type": "markdown",
   "metadata": {},
   "source": [
    "Aflevering 5\n"
   ]
  },
  {
   "cell_type": "markdown",
   "metadata": {},
   "source": [
    "Gruppe: Alexander Bjerno & Christian Winkler"
   ]
  },
  {
   "cell_type": "markdown",
   "metadata": {},
   "source": [
    "CE2"
   ]
  },
  {
   "cell_type": "markdown",
   "metadata": {},
   "source": [
    "(a)"
   ]
  },
  {
   "cell_type": "code",
   "execution_count": 8,
   "metadata": {},
   "outputs": [],
   "source": [
    "# Define the funktion\n",
    "t = np.linspace(0, 2 * np.pi, 100)\n",
    "x = 3 * np.cos(t)\n",
    "y = np.sin(2 * t)\n"
   ]
  },
  {
   "cell_type": "code",
   "execution_count": 9,
   "metadata": {},
   "outputs": [
    {
     "data": {
      "image/png": "[encoded data removed]",
      "text/plain": [
       "<Figure size 640x480 with 1 Axes>"
      ]
     },
     "metadata": {},
     "output_type": "display_data"
    }
   ],
   "source": [
    "# plotting the figure\n",
    "fig, ax = plt.subplots()\n",
    "ax.set_aspect('equal')\n",
    "ax.set_xticks([])\n",
    "ax.set_yticks([])\n",
    "ax.set_title('Original figure')\n",
    "ax.plot(x, y, 'o', color='black')\n",
    "plt.show()\n"
   ]
  },
  {
   "cell_type": "code",
   "execution_count": 65,
   "metadata": {},
   "outputs": [
    {
     "ename": "ValueError",
     "evalue": "shapes (2,2,100) and (2,100) not aligned: 100 (dim 2) != 2 (dim 0)",
     "output_type": "error",
     "traceback": [
      "\u001b[0;31m---------------------------------------------------------------------------\u001b[0m",
      "\u001b[0;31mValueError\u001b[0m                                Traceback (most recent call last)",
      "\u001b[0;32m/var/folders/v3/9vd5lmdx7xn1vthkdgskfdq40000gn/T/ipykernel_98537/662840280.py\u001b[0m in \u001b[0;36m<module>\u001b[0;34m\u001b[0m\n\u001b[1;32m     22\u001b[0m     \u001b[0;32mreturn\u001b[0m \u001b[0mx\u001b[0m\u001b[0;34m,\u001b[0m \u001b[0my\u001b[0m\u001b[0;34m\u001b[0m\u001b[0;34m\u001b[0m\u001b[0m\n\u001b[1;32m     23\u001b[0m \u001b[0;34m\u001b[0m\u001b[0m\n\u001b[0;32m---> 24\u001b[0;31m \u001b[0mx_std\u001b[0m\u001b[0;34m,\u001b[0m \u001b[0my_std\u001b[0m \u001b[0;34m=\u001b[0m \u001b[0mstandardize\u001b[0m\u001b[0;34m(\u001b[0m\u001b[0mx\u001b[0m\u001b[0;34m,\u001b[0m \u001b[0my\u001b[0m\u001b[0;34m)\u001b[0m\u001b[0;34m\u001b[0m\u001b[0;34m\u001b[0m\u001b[0m\n\u001b[0m\u001b[1;32m     25\u001b[0m \u001b[0;34m\u001b[0m\u001b[0m\n",
      "\u001b[0;32m/var/folders/v3/9vd5lmdx7xn1vthkdgskfdq40000gn/T/ipykernel_98537/662840280.py\u001b[0m in \u001b[0;36mstandardize\u001b[0;34m(x, y)\u001b[0m\n\u001b[1;32m     17\u001b[0m     rotation_matrix = np.array([[np.cos(rotation_angle), -np.sin(rotation_angle)], \n\u001b[1;32m     18\u001b[0m                                 [np.sin(rotation_angle), np.cos(rotation_angle)]])\n\u001b[0;32m---> 19\u001b[0;31m     \u001b[0mx\u001b[0m\u001b[0;34m,\u001b[0m \u001b[0my\u001b[0m \u001b[0;34m=\u001b[0m \u001b[0mnp\u001b[0m\u001b[0;34m.\u001b[0m\u001b[0mdot\u001b[0m\u001b[0;34m(\u001b[0m\u001b[0mrotation_matrix\u001b[0m\u001b[0;34m,\u001b[0m \u001b[0mnp\u001b[0m\u001b[0;34m.\u001b[0m\u001b[0marray\u001b[0m\u001b[0;34m(\u001b[0m\u001b[0;34m[\u001b[0m\u001b[0mx\u001b[0m\u001b[0;34m,\u001b[0m \u001b[0my\u001b[0m\u001b[0;34m]\u001b[0m\u001b[0;34m)\u001b[0m\u001b[0;34m)\u001b[0m\u001b[0;34m\u001b[0m\u001b[0;34m\u001b[0m\u001b[0m\n\u001b[0m\u001b[1;32m     20\u001b[0m \u001b[0;34m\u001b[0m\u001b[0m\n\u001b[1;32m     21\u001b[0m \u001b[0;34m\u001b[0m\u001b[0m\n",
      "\u001b[0;32m~/opt/anaconda3/lib/python3.9/site-packages/numpy/core/overrides.py\u001b[0m in \u001b[0;36mdot\u001b[0;34m(*args, **kwargs)\u001b[0m\n",
      "\u001b[0;31mValueError\u001b[0m: shapes (2,2,100) and (2,100) not aligned: 100 (dim 2) != 2 (dim 0)"
     ]
    }
   ],
   "source": [
    "# To begin we have to find the center of the figure\n",
    "def standardize(x, y):\n",
    "    # np.mean returns the average of the array\n",
    "    center = np.array([np.mean(x), np.mean(y)])\n",
    "    \n",
    "    # moving it to the origin\n",
    "    x = x - center[0]\n",
    "    y = y - center[1]\n",
    "    \n",
    "    # Scaling the figure so that the longest side is 1.\n",
    "    scale_factor = 1 / np.max(np.abs([x, y]))\n",
    "    x = x * scale_factor\n",
    "    y = y * scale_factor\n",
    "    \n",
    "    # rotating the figure so that the longest side is horizontal\n",
    "    rotation_angle = np.arctan2(y, x)\n",
    "    rotation_matrix = np.array([[np.cos(rotation_angle), -np.sin(rotation_angle)], \n",
    "                                [np.sin(rotation_angle), np.cos(rotation_angle)]])\n",
    "    x, y = np.dot(rotation_matrix, np.array([x, y]))\n",
    " \n",
    "    \n",
    "    return x, y\n",
    "    \n",
    "x_std, y_std = standardize(x, y)\n",
    "    "
   ]
  },
  {
   "cell_type": "code",
   "execution_count": 20,
   "metadata": {},
   "outputs": [
    {
     "name": "stdout",
     "output_type": "stream",
     "text": [
      "1.7535622282217382\n"
     ]
    }
   ],
   "source": [
    "rng = np.random.default_rng()\n",
    "theta = rng.uniform(np.pi/5, (4*np.pi)/5)\n",
    "print(theta)\n",
    "co = np.cos(theta)\n",
    "si = np.sin(theta)\n",
    "rotxy = np.array([[x * co - (y * si)], [y* co + x * si]])\n"
   ]
  },
  {
   "cell_type": "code",
   "execution_count": 21,
   "metadata": {},
   "outputs": [
    {
     "data": {
      "image/png": "[encoded data removed]",
      "text/plain": [
       "<Figure size 640x480 with 1 Axes>"
      ]
     },
     "metadata": {},
     "output_type": "display_data"
    }
   ],
   "source": [
    "fig, ax = plt.subplots()\n",
    "ax.set_aspect('equal')\n",
    "ax.set_xticks([])\n",
    "ax.set_yticks([])\n",
    "ax.set_title('Original figure')\n",
    "ax.plot(rotxy[0], rotxy[1], 'o', color='black')\n",
    "plt.show()"
   ]
  },
  {
   "cell_type": "code",
   "execution_count": null,
   "metadata": {},
   "outputs": [],
   "source": []
  }
 ],
 "metadata": {
  "kernelspec": {
   "display_name": "base",
   "language": "python",
   "name": "python3"
  },
  "language_info": {
   "codemirror_mode": {
    "name": "ipython",
    "version": 3
   },
   "file_extension": ".py",
   "mimetype": "text/x-python",
   "name": "python",
   "nbconvert_exporter": "python",
   "pygments_lexer": "ipython3",
   "version": "3.9.13"
  },
  "orig_nbformat": 4,
  "vscode": {
   "interpreter": {
    "hash": "5b2f3dc1da8edd2da1c8e3784214a934f6b40ab2daf34623251497e05f4703d0"
   }
  }
 },
 "nbformat": 4,
 "nbformat_minor": 2
}
